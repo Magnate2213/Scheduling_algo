{
 "cells": [
  {
   "cell_type": "markdown",
   "metadata": {},
   "source": [
    "### Shahariar Rabby\n",
    "#### ID: 151-15-5424\n",
    "#### Sec: F\n",
    "#### Operating System"
   ]
  },
  {
   "cell_type": "markdown",
   "metadata": {},
   "source": [
    "**Implement the First Come First Serve (FCFS) non preemptive algorithm by taking user\n",
    "input of the arrival & burst time of different processes.**"
   ]
  },
  {
   "cell_type": "code",
   "execution_count": null,
   "metadata": {
    "collapsed": true
   },
   "outputs": [],
   "source": [
    "import numpy as np"
   ]
  },
  {
   "cell_type": "markdown",
   "metadata": {},
   "source": [
    "**Taking user input in this step. Users need to enter all the value for **AT** and **BT** spear with spaces. Input must be a set of even numbers.**"
   ]
  },
  {
   "cell_type": "code",
   "execution_count": null,
   "metadata": {
    "collapsed": false
   },
   "outputs": [],
   "source": [
    "print (\"Enter All value with space\")\n",
    "inputs = np.array([int(x) for x in input().split()]) # Taking input, for python2 raw_input"
   ]
  },
  {
   "cell_type": "markdown",
   "metadata": {},
   "source": [
    "**This step checking that user input **even number** of values. And showing the inputs.**"
   ]
  },
  {
   "cell_type": "code",
   "execution_count": null,
   "metadata": {
    "collapsed": false
   },
   "outputs": [],
   "source": [
    "if len(inputs)%2 == 1:\n",
    "    print (\"Please input correct value, May be you missed something (You need to input even number of values, two for each process)\")\n",
    "else:\n",
    "    print(\"Successfully inserted all values\")\n",
    "inputs"
   ]
  },
  {
   "cell_type": "markdown",
   "metadata": {},
   "source": [
    "**In this step whole user 1D input is converted into a 2D array, Also showing the 2D output where each column represents a process. Where first element is **Arrival time** AT **and the Second element is Burst time **BT ** **"
   ]
  },
  {
   "cell_type": "code",
   "execution_count": null,
   "metadata": {
    "collapsed": false
   },
   "outputs": [],
   "source": [
    "process = inputs.reshape((int(len(inputs)/2), 2)).tolist()\n",
    "\n",
    "for p in range(len(process)):\n",
    "    process[p].insert(0, p+1)\n",
    "\n",
    "process"
   ]
  },
  {
   "cell_type": "markdown",
   "metadata": {},
   "source": [
    "**This step is sorting the processes by their Arrival time** AT"
   ]
  },
  {
   "cell_type": "code",
   "execution_count": null,
   "metadata": {
    "collapsed": false
   },
   "outputs": [],
   "source": [
    "fcfs = sorted(process,key=lambda x: (x[1],x[2],x[0]))\n",
    "fcfs"
   ]
  },
  {
   "cell_type": "markdown",
   "metadata": {},
   "source": [
    "**This step is calculating the completion time **CT**, We know that *Completion Time is the Time at which process completes its execution*. ** Also showning Completion Time for each process."
   ]
  },
  {
   "cell_type": "code",
   "execution_count": null,
   "metadata": {
    "collapsed": false
   },
   "outputs": [],
   "source": [
    "ct = []\n",
    "for i in range(int(len(fcfs))):\n",
    "    if i == 0:\n",
    "        ct.append(fcfs[i][1] + fcfs[i][2])\n",
    "    else:\n",
    "        ct.append(fcfs[i][2] + ct[i-1])\n",
    "\n",
    "# printing Compltion time\n",
    "# printing Compltion time\n",
    "for i in range(len(ct)):\n",
    "    print (\"Compltion time for P{} is: {}\".format(fcfs[i][0],ct[i]))"
   ]
  },
  {
   "cell_type": "markdown",
   "metadata": {},
   "source": [
    "**This step is calculating the Turn Around Time **TAT**, We know that *Turn Around Time is the Time Difference between completion time and arrival time.**  Also showning Completion Time for each process. \n",
    "\n",
    "`Turn Around Time = Completion Time - Arrival Time`"
   ]
  },
  {
   "cell_type": "code",
   "execution_count": null,
   "metadata": {
    "collapsed": false
   },
   "outputs": [],
   "source": [
    "tat = []\n",
    "for i in range(int(len(fcfs))):\n",
    "    tat.append(ct[i] - fcfs[i][1])\n",
    "    \n",
    "# printing Turn Around Time\n",
    "for i in range(len(tat)):\n",
    "    print (\"Turn Around Time for P{} is: {}\".format(fcfs[i][0],tat[i]))"
   ]
  },
  {
   "cell_type": "markdown",
   "metadata": {},
   "source": [
    "**This step is calculating the average Turn Around Time for all the process and showing them. ** We know,\n",
    "\n",
    "`Average Turn Around Time = \"sum of all Turn Around Time\" DEVIDE by \"Total number of process\"`"
   ]
  },
  {
   "cell_type": "code",
   "execution_count": null,
   "metadata": {
    "collapsed": false
   },
   "outputs": [],
   "source": [
    "avarage_TAT = round(np.mean(tat),2)\n",
    "print (\"Average Turn Around Time for all process is: \",avarage_TAT)"
   ]
  },
  {
   "cell_type": "markdown",
   "metadata": {},
   "source": [
    "**This stp is calculatin Waiting time for each process, Waiting Time(W.T) is the Time Difference between turn around time and burst time.**We know,\n",
    "\n",
    "`Waiting Time = Turn Around Time - Burst Time`"
   ]
  },
  {
   "cell_type": "code",
   "execution_count": null,
   "metadata": {
    "collapsed": false
   },
   "outputs": [],
   "source": [
    "wt = []\n",
    "for i in range(int(len(fcfs))):\n",
    "    wt.append(tat[i] - fcfs[i][2])\n",
    "    \n",
    "# printing Waiting time\n",
    "for i in range(len(wt)):\n",
    "    print (\"Waiting time for P{} is: {}\".format(fcfs[i][0],wt[i]))\n"
   ]
  },
  {
   "cell_type": "markdown",
   "metadata": {},
   "source": [
    "**This step is calculatin average Waiting time for each process.**We know,\n",
    "\n",
    "`Average Waiting Time = \"sum of all Waiting Time\" DEVIDE by \"Total number of process\"`"
   ]
  },
  {
   "cell_type": "code",
   "execution_count": null,
   "metadata": {
    "collapsed": false
   },
   "outputs": [],
   "source": [
    "avarage_WT = round(np.mean(wt),2)\n",
    "print (\"Average Waiting Time for all process is:\",avarage_WT)"
   ]
  },
  {
   "cell_type": "markdown",
   "metadata": {},
   "source": [
    "### Final Answar:"
   ]
  },
  {
   "cell_type": "code",
   "execution_count": null,
   "metadata": {
    "collapsed": false
   },
   "outputs": [],
   "source": [
    "print (\"Average Waiting Time for all process is: \",avarage_WT,\"sec.\")\n",
    "print (\"Average Turn Around Time for all process is: \",avarage_TAT,\"sec.\")"
   ]
  },
  {
   "cell_type": "markdown",
   "metadata": {},
   "source": [
    "## Thank You\n",
    "#### Shahariar Rabby"
   ]
  }
 ],
 "metadata": {
  "anaconda-cloud": {},
  "kernelspec": {
   "display_name": "Python [conda root]",
   "language": "python",
   "name": "conda-root-py"
  },
  "language_info": {
   "codemirror_mode": {
    "name": "ipython",
    "version": 3
   },
   "file_extension": ".py",
   "mimetype": "text/x-python",
   "name": "python",
   "nbconvert_exporter": "python",
   "pygments_lexer": "ipython3",
   "version": "3.5.2"
  }
 },
 "nbformat": 4,
 "nbformat_minor": 2
}
